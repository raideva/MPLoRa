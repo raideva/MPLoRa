{
 "cells": [
  {
   "cell_type": "code",
   "execution_count": 1,
   "id": "84304239-0157-4478-8dc9-9528de918e1c",
   "metadata": {},
   "outputs": [
    {
     "name": "stderr",
     "output_type": "stream",
     "text": [
      "2023-12-14 15:42:19.334242: I tensorflow/core/platform/cpu_feature_guard.cc:182] This TensorFlow binary is optimized to use available CPU instructions in performance-critical operations.\n",
      "To enable the following instructions: AVX2 FMA, in other operations, rebuild TensorFlow with the appropriate compiler flags.\n"
     ]
    }
   ],
   "source": [
    "import os\n",
    "import leafmap\n",
    "from samgeo import SamGeo, show_image, download_file, overlay_images, tms_to_geotiff\n",
    "from samgeo.text_sam import LangSAM"
   ]
  },
  {
   "cell_type": "code",
   "execution_count": 2,
   "id": "b797bc42-c0d2-440a-8e2b-3b0f830c8f8f",
   "metadata": {},
   "outputs": [],
   "source": [
    "from Shadow_Detection import shadow_detection, shadow_correction"
   ]
  },
  {
   "cell_type": "code",
   "execution_count": 20,
   "id": "78696daa-7458-438a-9e24-4b4b7ba16e02",
   "metadata": {},
   "outputs": [
    {
     "data": {
      "application/vnd.jupyter.widget-view+json": {
       "model_id": "569b68be7c1e4052a2289b8b81155dd9",
       "version_major": 2,
       "version_minor": 0
      },
      "text/plain": [
       "Map(center=[25.2623, 82.9893], controls=(ZoomControl(options=['position', 'zoom_in_text', 'zoom_in_title', 'zo…"
      ]
     },
     "execution_count": 20,
     "metadata": {},
     "output_type": "execute_result"
    }
   ],
   "source": [
    "m = leafmap.Map(center=[25.2623, 82.9893], zoom=17, height=\"600px\", width=\"600px\")\n",
    "m.add_basemap(\"SATELLITE\")\n",
    "m"
   ]
  },
  {
   "cell_type": "code",
   "execution_count": 21,
   "id": "6e4a3ebb-eb5a-4c51-97f2-f1fe49e4f8f4",
   "metadata": {},
   "outputs": [
    {
     "data": {
      "text/plain": [
       "[82.9866, 25.2618, 82.9874, 25.263]"
      ]
     },
     "execution_count": 21,
     "metadata": {},
     "output_type": "execute_result"
    }
   ],
   "source": [
    "bbox = m.user_roi_bounds()\n",
    "bbox"
   ]
  },
  {
   "cell_type": "code",
   "execution_count": 17,
   "id": "166b5782-38d8-4273-bc20-fb07db916786",
   "metadata": {},
   "outputs": [],
   "source": [
    "bbox = [82.9866, 25.2618, 82.9874, 25.263]"
   ]
  },
  {
   "cell_type": "code",
   "execution_count": 22,
   "id": "981088af-7b48-47f2-aa9a-41f6229bf917",
   "metadata": {},
   "outputs": [],
   "source": [
    "if m.user_roi_bounds() is None:\n",
    "    raise \"Boundry box not found\""
   ]
  },
  {
   "cell_type": "code",
   "execution_count": 23,
   "id": "6f4a293c-9e33-44e5-96a0-ba3836da3dcc",
   "metadata": {},
   "outputs": [
    {
     "name": "stdout",
     "output_type": "stream",
     "text": [
      "Downloaded image 01/48\n",
      "Downloaded image 02/48\n",
      "Downloaded image 03/48\n",
      "Downloaded image 04/48\n",
      "Downloaded image 05/48\n",
      "Downloaded image 06/48\n",
      "Downloaded image 07/48\n",
      "Downloaded image 08/48\n",
      "Downloaded image 09/48\n",
      "Downloaded image 10/48\n",
      "Downloaded image 11/48\n",
      "Downloaded image 12/48\n",
      "Downloaded image 13/48\n",
      "Downloaded image 14/48\n",
      "Downloaded image 15/48\n",
      "Downloaded image 16/48\n",
      "Downloaded image 17/48\n",
      "Downloaded image 18/48\n",
      "Downloaded image 19/48\n",
      "Downloaded image 20/48\n",
      "Downloaded image 21/48\n",
      "Downloaded image 22/48\n",
      "Downloaded image 23/48\n",
      "Downloaded image 24/48\n",
      "Downloaded image 25/48\n",
      "Downloaded image 26/48\n",
      "Downloaded image 27/48\n",
      "Downloaded image 28/48\n",
      "Downloaded image 29/48\n",
      "Downloaded image 30/48\n",
      "Downloaded image 31/48\n",
      "Downloaded image 32/48\n",
      "Downloaded image 33/48\n",
      "Downloaded image 34/48\n",
      "Downloaded image 35/48\n",
      "Downloaded image 36/48\n",
      "Downloaded image 37/48\n",
      "Downloaded image 38/48\n",
      "Downloaded image 39/48\n",
      "Downloaded image 40/48\n",
      "Downloaded image 41/48\n",
      "Downloaded image 42/48\n",
      "Downloaded image 43/48\n",
      "Downloaded image 44/48\n",
      "Downloaded image 45/48\n",
      "Downloaded image 46/48\n",
      "Downloaded image 47/48\n",
      "Downloaded image 48/48\n",
      "Saving GeoTIFF. Please wait...\n",
      "Image saved to satellite.tif\n"
     ]
    }
   ],
   "source": [
    "image = \"satellite.tif\"\n",
    "tms_to_geotiff(output=image, bbox=bbox, zoom=21, source=\"Satellite\", overwrite=True)"
   ]
  },
  {
   "cell_type": "code",
   "execution_count": 26,
   "id": "428cbc9b-cc28-48bb-a0d5-dbe919562292",
   "metadata": {},
   "outputs": [
    {
     "data": {
      "text/plain": [
       "array([[[255, 255, 255],\n",
       "        [255, 255, 255],\n",
       "        [255, 255, 255],\n",
       "        ...,\n",
       "        [255, 255, 255],\n",
       "        [255, 255, 255],\n",
       "        [255, 255, 255]],\n",
       "\n",
       "       [[255, 255, 255],\n",
       "        [255, 255, 255],\n",
       "        [255, 255, 255],\n",
       "        ...,\n",
       "        [255, 255, 255],\n",
       "        [255, 255, 255],\n",
       "        [255, 255, 255]],\n",
       "\n",
       "       [[255, 255, 255],\n",
       "        [255, 255, 255],\n",
       "        [255, 255, 255],\n",
       "        ...,\n",
       "        [255, 255, 255],\n",
       "        [255, 255, 255],\n",
       "        [255, 255, 255]],\n",
       "\n",
       "       ...,\n",
       "\n",
       "       [[255, 255, 255],\n",
       "        [255, 255, 255],\n",
       "        [255, 255, 255],\n",
       "        ...,\n",
       "        [117, 116,  95],\n",
       "        [115, 114,  93],\n",
       "        [116, 115,  94]],\n",
       "\n",
       "       [[255, 255, 255],\n",
       "        [255, 255, 255],\n",
       "        [255, 255, 255],\n",
       "        ...,\n",
       "        [113, 112,  91],\n",
       "        [112, 111,  90],\n",
       "        [113, 112,  91]],\n",
       "\n",
       "       [[255, 255, 255],\n",
       "        [255, 255, 255],\n",
       "        [255, 255, 255],\n",
       "        ...,\n",
       "        [110, 109,  88],\n",
       "        [110, 109,  88],\n",
       "        [111, 110,  89]]], dtype=uint8)"
      ]
     },
     "execution_count": 26,
     "metadata": {},
     "output_type": "execute_result"
    }
   ],
   "source": [
    "# Run the shadow detection file before running this code, i.e. shadow_detection_1master.py\n",
    "# Ensure that file paths are correct as per your location\n",
    "\n",
    "shadow_correction(\"/Users/raideva/Desktop/Height Estimation Model/satellite.tif\", \"/Users/raideva/Desktop/Height Estimation Model/satellite_Deb_and_Suny.tif\", \"pre_processed.tif\")\n",
    "\n"
   ]
  },
  {
   "cell_type": "code",
   "execution_count": 33,
   "id": "0cb09122-d3b6-4936-a58b-529acb61c3cf",
   "metadata": {},
   "outputs": [],
   "source": [
    "image = \"pre_processed.tif\""
   ]
  },
  {
   "cell_type": "code",
   "execution_count": 29,
   "id": "2ece78b3-84c1-44f1-9899-115d80908343",
   "metadata": {},
   "outputs": [
    {
     "name": "stdout",
     "output_type": "stream",
     "text": [
      "final text_encoder_type: bert-base-uncased\n"
     ]
    }
   ],
   "source": [
    "sam = LangSAM()"
   ]
  },
  {
   "cell_type": "code",
   "execution_count": null,
   "id": "30eeffcf-ba6b-40ae-b065-812659fe223e",
   "metadata": {},
   "outputs": [],
   "source": [
    "sam.predict(image, \"building\", box_threshold=0.24, text_threshold=0.24)"
   ]
  },
  {
   "cell_type": "code",
   "execution_count": null,
   "id": "d76f1658-5c47-4a97-8d69-c18202fa46f8",
   "metadata": {},
   "outputs": [],
   "source": [
    "sam.show_anns(\n",
    "    cmap='Greens',\n",
    "    box_color='red',\n",
    "    title='Automatic Segmentation of Buildings',\n",
    "    blend=True,\n",
    ")"
   ]
  },
  {
   "cell_type": "code",
   "execution_count": null,
   "id": "0dcd1cac-a708-4fc9-a038-390858740631",
   "metadata": {},
   "outputs": [],
   "source": [
    "sam.show_anns(\n",
    "    cmap='Greens',\n",
    "    add_boxes=False,\n",
    "    alpha=0.5,\n",
    "    title='Automatic Segmentation of Buildings',\n",
    ")"
   ]
  },
  {
   "cell_type": "code",
   "execution_count": null,
   "id": "82446c90-ac19-4192-b322-5f54f61e7cec",
   "metadata": {},
   "outputs": [],
   "source": [
    "sam.show_anns(\n",
    "    cmap='Greys_r',\n",
    "    add_boxes=False,\n",
    "    alpha=1,\n",
    "    blend=False,\n",
    "    output='Footprint.tif',\n",
    ")"
   ]
  },
  {
   "cell_type": "code",
   "execution_count": null,
   "id": "a6ec2e35-e37b-4a81-9764-93bdb7fee445",
   "metadata": {},
   "outputs": [],
   "source": []
  }
 ],
 "metadata": {
  "kernelspec": {
   "display_name": "Python 3 (ipykernel)",
   "language": "python",
   "name": "python3"
  },
  "language_info": {
   "codemirror_mode": {
    "name": "ipython",
    "version": 3
   },
   "file_extension": ".py",
   "mimetype": "text/x-python",
   "name": "python",
   "nbconvert_exporter": "python",
   "pygments_lexer": "ipython3",
   "version": "3.10.4"
  }
 },
 "nbformat": 4,
 "nbformat_minor": 5
}
